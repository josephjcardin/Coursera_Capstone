{
 "cells": [
  {
   "cell_type": "markdown",
   "metadata": {},
   "source": [
    "This notebook represents my work for my Capstone course project as part of the IBM Data Science Professional Certificate on Coursera.  "
   ]
  },
  {
   "source": [
    "import pandas as pd\n",
    "import numpy as np\n",
    "print ('Hello Capstone Project Course!')"
   ],
   "cell_type": "code",
   "metadata": {
    "tags": []
   },
   "execution_count": 3,
   "outputs": [
    {
     "output_type": "stream",
     "name": "stdout",
     "text": [
      "Hello Capstone Project Course!\n"
     ]
    }
   ]
  },
  {
   "source": [
    "1. IMPORTING AND CLEANING DATA"
   ],
   "cell_type": "markdown",
   "metadata": {}
  },
  {
   "source": [
    "1.1 Importing the data"
   ],
   "cell_type": "markdown",
   "metadata": {}
  },
  {
   "cell_type": "code",
   "execution_count": 4,
   "metadata": {},
   "outputs": [],
   "source": [
    "df_SeattleCollisionData = pd.read_csv(r'/Users/josephcardin/Dropbox (Personal)/My Mac (MacBook-Pro.hsd1.ca.comcast.net)/Documents/Data Science/IBM Data Scientist Specialization/Applied Data Science Capstone/Coursera_Capstone/Data-Collisions.csv')"
   ]
  },
  {
   "cell_type": "code",
   "execution_count": 5,
   "metadata": {},
   "outputs": [
    {
     "output_type": "stream",
     "name": "stdout",
     "text": [
      "(194673, 38)\n"
     ]
    }
   ],
   "source": [
    "print(df_SeattleCollisionData.shape)"
   ]
  },
  {
   "source": [
    "1.2 Cleaning the data"
   ],
   "cell_type": "markdown",
   "metadata": {}
  },
  {
   "cell_type": "code",
   "execution_count": 6,
   "metadata": {},
   "outputs": [],
   "source": [
    "df_SeattleCollisionData.drop([\"SEVERITYCODE_1\", \"INCKEY\", \"COLDETKEY\", \"REPORTNO\", \"INTKEY\", \"EXCEPTRSNCODE\", \"EXCEPTRSNDESC\", \"INATTENTIONIND\", \"UNDERINFL\", \"PEDROWNOTGRNT\", \"SDOTCOLNUM\", \"SEGLANEKEY\", \"CROSSWALKKEY\", \"HITPARKEDCAR\"], axis=1, inplace=True)"
   ]
  },
  {
   "cell_type": "code",
   "execution_count": 7,
   "metadata": {},
   "outputs": [
    {
     "output_type": "stream",
     "name": "stdout",
     "text": [
      "(194673, 24)\n"
     ]
    }
   ],
   "source": [
    "print(df_SeattleCollisionData.shape)"
   ]
  },
  {
   "source": [
    "2. CREATING ADDITIONAL DATABASES"
   ],
   "cell_type": "markdown",
   "metadata": {}
  },
  {
   "cell_type": "code",
   "execution_count": 8,
   "metadata": {},
   "outputs": [],
   "source": [
    "#Due to every row having a NaN in at least on column could not simply #clear out all rows with missing data.  Need to create specific df's with #missing data only removed when applicable for that db and its future #need."
   ]
  },
  {
   "cell_type": "code",
   "execution_count": 9,
   "metadata": {},
   "outputs": [],
   "source": [
    "#Creating df where Weather and Severity are not missing\n",
    "df_SCD_Weather = df_SeattleCollisionData[df_SeattleCollisionData['WEATHER'].notna()]\n",
    "df_SCD_Weather = df_SCD_Weather[df_SCD_Weather['SEVERITYCODE'].notna()]"
   ]
  },
  {
   "source": [
    "#Removing unnecessary columns for this analysis.  \n",
    "df_SCD_Weather.drop(['X', 'Y', 'STATUS', 'ADDRTYPE', 'LOCATION', 'COLLISIONTYPE', 'PERSONCOUNT', 'JUNCTIONTYPE', 'SDOT_COLCODE', 'SDOT_COLDESC', 'ST_COLCODE', 'ST_COLDESC', 'PEDCOUNT', 'PEDCYLCOUNT', 'VEHCOUNT', 'INCDATE', 'INCDTTM' ], axis=1, inplace=True)"
   ],
   "cell_type": "code",
   "metadata": {},
   "execution_count": 10,
   "outputs": []
  },
  {
   "cell_type": "code",
   "execution_count": 11,
   "metadata": {},
   "outputs": [
    {
     "output_type": "stream",
     "name": "stdout",
     "text": [
      "(189592, 7)\n   OBJECTID  SEVERITYCODE      SEVERITYDESC   WEATHER ROADCOND LIGHTCOND  \\\n0         1             2  Injury Collision  Overcast      Wet  Daylight   \n\n  SPEEDING  \n0      NaN  \n"
     ]
    }
   ],
   "source": [
    "print(df_SCD_Weather.shape)\n",
    "print(df_SCD_Weather.head(1))"
   ]
  },
  {
   "cell_type": "code",
   "execution_count": 12,
   "metadata": {},
   "outputs": [
    {
     "output_type": "stream",
     "name": "stdout",
     "text": [
      "(189339, 24)\n"
     ]
    }
   ],
   "source": [
    "#Creating df where X or Y are not missing\n",
    "df_SDC_Location = df_SeattleCollisionData[df_SeattleCollisionData['X'].notna()]\n",
    "print(df_SDC_Location.shape)"
   ]
  },
  {
   "source": [
    "3. Import Matplotlibs"
   ],
   "cell_type": "markdown",
   "metadata": {}
  },
  {
   "cell_type": "code",
   "execution_count": 13,
   "metadata": {},
   "outputs": [],
   "source": [
    "%matplotlib inline\n",
    "\n",
    "import matplotlib as mpl\n",
    "import matplotlib.pyplot as plt"
   ]
  },
  {
   "source": [
    "4.  What impact does weather have on collision volume and severity?"
   ],
   "cell_type": "markdown",
   "metadata": {}
  },
  {
   "source": [
    "4.1 Impact of Weather on Volume of Collisions"
   ],
   "cell_type": "markdown",
   "metadata": {}
  },
  {
   "cell_type": "code",
   "execution_count": 14,
   "metadata": {},
   "outputs": [],
   "source": [
    "# for sake of consistency, making all column labels of type string\n",
    "df_SCD_Weather.columns = list(map(str, df_SCD_Weather.columns))"
   ]
  },
  {
   "cell_type": "code",
   "execution_count": 20,
   "metadata": {},
   "outputs": [
    {
     "output_type": "execute_result",
     "data": {
      "text/plain": [
       "Clear                       111135\n",
       "Raining                      33145\n",
       "Overcast                     27714\n",
       "Unknown                      15091\n",
       "Snowing                        907\n",
       "Other                          832\n",
       "Fog/Smog/Smoke                 569\n",
       "Sleet/Hail/Freezing Rain       113\n",
       "Blowing Sand/Dirt               56\n",
       "Severe Crosswind                25\n",
       "Partly Cloudy                    5\n",
       "Name: WEATHER, dtype: int64"
      ]
     },
     "metadata": {},
     "execution_count": 20
    }
   ],
   "source": [
    "df_SCD_Weather['WEATHER'].value_counts()"
   ]
  },
  {
   "cell_type": "code",
   "execution_count": 21,
   "metadata": {},
   "outputs": [
    {
     "output_type": "execute_result",
     "data": {
      "text/plain": [
       "Property Damage Only Collision    132488\n",
       "Injury Collision                   57104\n",
       "Name: SEVERITYDESC, dtype: int64"
      ]
     },
     "metadata": {},
     "execution_count": 21
    }
   ],
   "source": [
    "df_SCD_Weather['SEVERITYDESC'].value_counts()"
   ]
  },
  {
   "cell_type": "code",
   "execution_count": null,
   "metadata": {},
   "outputs": [],
   "source": []
  }
 ],
 "metadata": {
  "kernelspec": {
   "name": "Python 3.8.5 64-bit",
   "display_name": "Python 3.8.5 64-bit",
   "metadata": {
    "interpreter": {
     "hash": "aee8b7b246df8f9039afb4144a1f6fd8d2ca17a180786b69acc140d282b71a49"
    }
   }
  },
  "language_info": {
   "codemirror_mode": {
    "name": "ipython",
    "version": 3
   },
   "file_extension": ".py",
   "mimetype": "text/x-python",
   "name": "python",
   "nbconvert_exporter": "python",
   "pygments_lexer": "ipython3",
   "version": "3.8.5-final"
  }
 },
 "nbformat": 4,
 "nbformat_minor": 4
}