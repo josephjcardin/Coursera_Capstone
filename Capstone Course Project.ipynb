{
 "cells": [
  {
   "cell_type": "markdown",
   "metadata": {},
   "source": [
    "This notebook represents my work for my Capstone course project as part of the IBM Data Science Professional Certificate on Coursera.  "
   ]
  },
  {
   "source": [
    "import pandas as pd\n",
    "import numpy as np\n",
    "print ('Hello Capstone Project Course!')"
   ],
   "cell_type": "code",
   "metadata": {
    "tags": []
   },
   "execution_count": 55,
   "outputs": [
    {
     "output_type": "stream",
     "name": "stdout",
     "text": [
      "Hello Capstone Project Course!\n"
     ]
    }
   ]
  },
  {
   "source": [
    "1. IMPORTING AND CLEANING DATA"
   ],
   "cell_type": "markdown",
   "metadata": {}
  },
  {
   "source": [
    "1.1 Importing the data"
   ],
   "cell_type": "markdown",
   "metadata": {}
  },
  {
   "cell_type": "code",
   "execution_count": 56,
   "metadata": {},
   "outputs": [],
   "source": [
    "db_rawSeattleTrafficData = pd.read_csv(r'/Users/josephcardin/Dropbox (Personal)/My Mac (MacBook-Pro.hsd1.ca.comcast.net)/Documents/Data Science/IBM Data Scientist Specialization/Applied Data Science Capstone/Coursera_Capstone/Data-Collisions.csv')"
   ]
  },
  {
   "cell_type": "code",
   "execution_count": 57,
   "metadata": {},
   "outputs": [
    {
     "output_type": "stream",
     "name": "stdout",
     "text": [
      "(194673, 38)\n   SEVERITYCODE_1           X          Y  OBJECTID  INCKEY  COLDETKEY  \\\n0               2 -122.323148  47.703140         1    1307       1307   \n1               1 -122.347294  47.647172         2   52200      52200   \n2               1 -122.334540  47.607871         3   26700      26700   \n3               1 -122.334803  47.604803         4    1144       1144   \n4               2 -122.306426  47.545739         5   17700      17700   \n\n  REPORTNO   STATUS      ADDRTYPE   INTKEY  ... ROADCOND  \\\n0  3502005  Matched  Intersection  37475.0  ...      Wet   \n1  2607959  Matched         Block      NaN  ...      Wet   \n2  1482393  Matched         Block      NaN  ...      Dry   \n3  3503937  Matched         Block      NaN  ...      Dry   \n4  1807429  Matched  Intersection  34387.0  ...      Wet   \n\n                 LIGHTCOND PEDROWNOTGRNT  SDOTCOLNUM SPEEDING ST_COLCODE  \\\n0                 Daylight           NaN         NaN      NaN         10   \n1  Dark - Street Lights On           NaN   6354039.0      NaN         11   \n2                 Daylight           NaN   4323031.0      NaN         32   \n3                 Daylight           NaN         NaN      NaN         23   \n4                 Daylight           NaN   4028032.0      NaN         10   \n\n                                          ST_COLDESC  SEGLANEKEY  \\\n0                                  Entering at angle           0   \n1  From same direction - both going straight - bo...           0   \n2                             One parked--one moving           0   \n3                   From same direction - all others           0   \n4                                  Entering at angle           0   \n\n   CROSSWALKKEY  HITPARKEDCAR  \n0             0             N  \n1             0             N  \n2             0             N  \n3             0             N  \n4             0             N  \n\n[5 rows x 38 columns]\n"
     ]
    }
   ],
   "source": [
    "print(db_rawSeattleTrafficData.shape)\n",
    "print(db_rawSeattleTrafficData.head(5))"
   ]
  },
  {
   "source": [
    "1.2 Cleaning the data"
   ],
   "cell_type": "markdown",
   "metadata": {}
  },
  {
   "source": [
    "1.2.a Dropping unnesseary columns of data"
   ],
   "cell_type": "markdown",
   "metadata": {}
  },
  {
   "cell_type": "code",
   "execution_count": 58,
   "metadata": {},
   "outputs": [],
   "source": [
    "db_rawSeattleTrafficData.drop([\"SEVERITYCODE_1\", \"INCKEY\", \"COLDETKEY\", \"REPORTNO\", \"INTKEY\", \"EXCEPTRSNCODE\", \"EXCEPTRSNDESC\", \"INATTENTIONIND\", \"UNDERINFL\", \"PEDROWNOTGRNT\", \"SDOTCOLNUM\", \"SEGLANEKEY\", \"CROSSWALKKEY\", \"HITPARKEDCAR\"], axis=1, inplace=True)"
   ]
  },
  {
   "cell_type": "code",
   "execution_count": 59,
   "metadata": {},
   "outputs": [
    {
     "output_type": "stream",
     "name": "stdout",
     "text": [
      "(194673, 24)\n            X          Y  OBJECTID   STATUS      ADDRTYPE  \\\n0 -122.323148  47.703140         1  Matched  Intersection   \n1 -122.347294  47.647172         2  Matched         Block   \n2 -122.334540  47.607871         3  Matched         Block   \n3 -122.334803  47.604803         4  Matched         Block   \n4 -122.306426  47.545739         5  Matched  Intersection   \n\n                                      LOCATION  SEVERITYCODE  \\\n0                   5TH AVE NE AND NE 103RD ST             2   \n1   AURORA BR BETWEEN RAYE ST AND BRIDGE WAY N             1   \n2  4TH AVE BETWEEN SENECA ST AND UNIVERSITY ST             1   \n3     2ND AVE BETWEEN MARION ST AND MADISON ST             1   \n4              SWIFT AVE S AND SWIFT AV OFF RP             2   \n\n                     SEVERITYDESC COLLISIONTYPE  PERSONCOUNT  ...  \\\n0                Injury Collision        Angles            2  ...   \n1  Property Damage Only Collision     Sideswipe            2  ...   \n2  Property Damage Only Collision    Parked Car            4  ...   \n3  Property Damage Only Collision         Other            3  ...   \n4                Injury Collision        Angles            2  ...   \n\n          INCDTTM                             JUNCTIONTYPE  SDOT_COLCODE  \\\n0   3/27/13 14:54   At Intersection (intersection related)            11   \n1  12/20/06 18:55  Mid-Block (not related to intersection)            16   \n2  11/18/04 10:20  Mid-Block (not related to intersection)            14   \n3    3/29/13 9:26  Mid-Block (not related to intersection)            11   \n4    1/28/04 8:04   At Intersection (intersection related)            11   \n\n                                        SDOT_COLDESC   WEATHER ROADCOND  \\\n0  MOTOR VEHICLE STRUCK MOTOR VEHICLE, FRONT END ...  Overcast      Wet   \n1  MOTOR VEHICLE STRUCK MOTOR VEHICLE, LEFT SIDE ...   Raining      Wet   \n2       MOTOR VEHICLE STRUCK MOTOR VEHICLE, REAR END  Overcast      Dry   \n3  MOTOR VEHICLE STRUCK MOTOR VEHICLE, FRONT END ...     Clear      Dry   \n4  MOTOR VEHICLE STRUCK MOTOR VEHICLE, FRONT END ...   Raining      Wet   \n\n                 LIGHTCOND SPEEDING ST_COLCODE  \\\n0                 Daylight      NaN         10   \n1  Dark - Street Lights On      NaN         11   \n2                 Daylight      NaN         32   \n3                 Daylight      NaN         23   \n4                 Daylight      NaN         10   \n\n                                          ST_COLDESC  \n0                                  Entering at angle  \n1  From same direction - both going straight - bo...  \n2                             One parked--one moving  \n3                   From same direction - all others  \n4                                  Entering at angle  \n\n[5 rows x 24 columns]\n"
     ]
    }
   ],
   "source": [
    "print(db_rawSeattleTrafficData.shape)\n",
    "print(db_rawSeattleTrafficData.head(5))"
   ]
  },
  {
   "source": [
    "1.2.b Removed rows with missing data in any column. "
   ],
   "cell_type": "markdown",
   "metadata": {}
  },
  {
   "cell_type": "code",
   "execution_count": 60,
   "metadata": {},
   "outputs": [
    {
     "output_type": "stream",
     "name": "stdout",
     "text": [
      "(194673, 24)\n"
     ]
    }
   ],
   "source": [
    "print(db_rawSeattleTrafficData.shape)"
   ]
  },
  {
   "cell_type": "code",
   "execution_count": 53,
   "metadata": {},
   "outputs": [],
   "source": []
  },
  {
   "cell_type": "code",
   "execution_count": 61,
   "metadata": {},
   "outputs": [
    {
     "output_type": "error",
     "ename": "AttributeError",
     "evalue": "'NoneType' object has no attribute 'shape'",
     "traceback": [
      "\u001b[0;31m---------------------------------------------------------------------------\u001b[0m",
      "\u001b[0;31mAttributeError\u001b[0m                            Traceback (most recent call last)",
      "\u001b[0;32m<ipython-input-61-9c76f88b741a>\u001b[0m in \u001b[0;36m<module>\u001b[0;34m\u001b[0m\n\u001b[0;32m----> 1\u001b[0;31m \u001b[0mprint\u001b[0m\u001b[0;34m(\u001b[0m\u001b[0mdb_seattleTrafficData\u001b[0m\u001b[0;34m.\u001b[0m\u001b[0mshape\u001b[0m\u001b[0;34m)\u001b[0m\u001b[0;34m\u001b[0m\u001b[0;34m\u001b[0m\u001b[0m\n\u001b[0m",
      "\u001b[0;31mAttributeError\u001b[0m: 'NoneType' object has no attribute 'shape'"
     ]
    }
   ],
   "source": []
  },
  {
   "cell_type": "code",
   "execution_count": null,
   "metadata": {},
   "outputs": [],
   "source": []
  }
 ],
 "metadata": {
  "kernelspec": {
   "name": "Python 3.8.5 64-bit",
   "display_name": "Python 3.8.5 64-bit",
   "metadata": {
    "interpreter": {
     "hash": "aee8b7b246df8f9039afb4144a1f6fd8d2ca17a180786b69acc140d282b71a49"
    }
   }
  },
  "language_info": {
   "codemirror_mode": {
    "name": "ipython",
    "version": 3
   },
   "file_extension": ".py",
   "mimetype": "text/x-python",
   "name": "python",
   "nbconvert_exporter": "python",
   "pygments_lexer": "ipython3",
   "version": "3.8.5-final"
  }
 },
 "nbformat": 4,
 "nbformat_minor": 4
}